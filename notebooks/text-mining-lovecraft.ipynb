{
 "cells": [
  {
   "cell_type": "markdown",
   "metadata": {},
   "source": [
    "# Text mining for the collected works of H.P. Lovecraft"
   ]
  },
  {
   "cell_type": "markdown",
   "metadata": {},
   "source": [
    "We have a dataset of raw text consisting of the collected works renowned horror fiction writer H.P. Lovecraft. The goal of this notebook is to explore and find interesting patterns in the text."
   ]
  },
  {
   "cell_type": "code",
   "execution_count": 1,
   "metadata": {},
   "outputs": [],
   "source": [
    "%matplotlib inline  # Need to do this to show matplotlib graphs in the jupyter notebook"
   ]
  },
  {
   "cell_type": "code",
   "execution_count": 2,
   "metadata": {},
   "outputs": [],
   "source": [
    "import re  # Contains regular expression functions"
   ]
  },
  {
   "cell_type": "code",
   "execution_count": 3,
   "metadata": {},
   "outputs": [],
   "source": [
    "with open(\"../data/hp-lovecraft.txt\", \"r\", encoding = 'utf-8') as f:\n",
    "    # Read the text file\n",
    "    text = f.read()"
   ]
  },
  {
   "cell_type": "code",
   "execution_count": 4,
   "metadata": {},
   "outputs": [
    {
     "name": "stdout",
     "output_type": "stream",
     "text": [
      "11 \n",
      "\n",
      "\n",
      "\n",
      "H. P Lovecraf t \n",
      "\n",
      "\n",
      "\n",
      "Cthulu Mythos \n",
      "\n",
      "\n",
      "\n",
      "Collected works \n",
      "\n",
      "\n",
      "\n",
      "11 \n",
      "\n",
      "\n",
      "\n",
      "Introduction \n",
      "\n",
      "This is a book that contains stories written by Howard Phihps Lovecraft that is \n",
      "beheved to be in the pubhc domain and were downloaded from the web. It was \n",
      "not created for profit - only for the purpose of having the stories in a singular \n",
      "location so as to be readily available for reading. The cover image is a 'doctored' \n",
      "photo that I took at Saint Kevin's Monastery, Ireland. The image was altered \n",
      "using the \n"
     ]
    }
   ],
   "source": [
    "# Show the first 500 characters in the text file\n",
    "print(text[:500])"
   ]
  },
  {
   "cell_type": "code",
   "execution_count": 5,
   "metadata": {},
   "outputs": [],
   "source": [
    "# Split the text file into words\n",
    "word_list = text.split()"
   ]
  },
  {
   "cell_type": "code",
   "execution_count": 6,
   "metadata": {},
   "outputs": [
    {
     "data": {
      "text/plain": [
       "'There are 632679 words in the collected works of H.P. Lovecraft (before cleaning)'"
      ]
     },
     "execution_count": 6,
     "metadata": {},
     "output_type": "execute_result"
    }
   ],
   "source": [
    "\"There are {} words in the collected works of H.P. Lovecraft (before cleaning)\".format(len(word_list))"
   ]
  },
  {
   "cell_type": "code",
   "execution_count": 7,
   "metadata": {},
   "outputs": [
    {
     "name": "stdout",
     "output_type": "stream",
     "text": [
      "The first 20 words in the text containing no letters\n",
      "11, 11, -, 1, 5, 8, 92, 93, 102, 107, 114, 119, 149, 151, 159, 165, 174, 199, 205, 209\n"
     ]
    }
   ],
   "source": [
    "# the for loop way\n",
    "dirty_words = []\n",
    "for word in word_list:\n",
    "    if not re.search('[A-z]', word):\n",
    "        # it's a word\n",
    "        dirty_words.append(word.lower())\n",
    "\n",
    "print(\"The first 20 words in the text containing no letters\")\n",
    "print(\", \".join(dirty_words[:20]))"
   ]
  },
  {
   "cell_type": "code",
   "execution_count": 8,
   "metadata": {},
   "outputs": [],
   "source": [
    "# use a list comprehension to get the good words - this way is easier\n",
    "words = [word.lower() for word in word_list if re.search('[A-z]', word)]"
   ]
  },
  {
   "cell_type": "code",
   "execution_count": 9,
   "metadata": {},
   "outputs": [],
   "source": [
    "# Remove punctuation\n",
    "words = [re.sub('[^a-z]', '', word) for word in words]"
   ]
  },
  {
   "cell_type": "code",
   "execution_count": 10,
   "metadata": {},
   "outputs": [
    {
     "data": {
      "text/plain": [
       "'There are 624880 words in the collected works of H.P. Lovecraft (after cleaning)'"
      ]
     },
     "execution_count": 10,
     "metadata": {},
     "output_type": "execute_result"
    }
   ],
   "source": [
    "\"There are {} words in the collected works of H.P. Lovecraft (after cleaning)\".format(len(words))"
   ]
  },
  {
   "cell_type": "markdown",
   "metadata": {},
   "source": [
    "## Word counts"
   ]
  },
  {
   "cell_type": "markdown",
   "metadata": {},
   "source": [
    "We want to count the number of occurences for each word in the collected works of H.P. Lovecraft"
   ]
  },
  {
   "cell_type": "code",
   "execution_count": 11,
   "metadata": {},
   "outputs": [
    {
     "name": "stderr",
     "output_type": "stream",
     "text": [
      "[nltk_data] Downloading package stopwords to /root/nltk_data...\n",
      "[nltk_data]   Package stopwords is already up-to-date!\n"
     ]
    },
    {
     "data": {
      "text/plain": [
       "True"
      ]
     },
     "execution_count": 11,
     "metadata": {},
     "output_type": "execute_result"
    }
   ],
   "source": [
    "import nltk\n",
    "nltk.download('stopwords')   # Download the stopwords list (if you don't have it already)"
   ]
  },
  {
   "cell_type": "code",
   "execution_count": 12,
   "metadata": {},
   "outputs": [],
   "source": [
    "from nltk.corpus import stopwords\n",
    "\n",
    "# Clean the punctuation from the stop words so it matches the clean text\n",
    "stop_words = [re.sub('[^a-z]', '', word) for word in stopwords.words('english')]\n",
    "\n",
    "# Add a few extra stop words\n",
    "stop_words += ['could', 'would', 'though', 'must', 'like']\n",
    "\n",
    "# Changing stop_words to a set makes looping a bit faster\n",
    "stop_words = set(stop_words)"
   ]
  },
  {
   "cell_type": "markdown",
   "metadata": {},
   "source": [
    "We count the number of occurences for each word using a dictionary, and try-except. The idea is to check if each word is in the dictionary, and if it isn't, set the count to 1. Otherwise, we increment the existing count by 1.\n",
    "\n",
    "We also check if the word is a stop word, and if it is, we skip and go to the next word."
   ]
  },
  {
   "cell_type": "code",
   "execution_count": 13,
   "metadata": {},
   "outputs": [],
   "source": [
    "word_counts = {}\n",
    "for word in words:\n",
    "    if word in stop_words:\n",
    "        continue\n",
    "    try:\n",
    "        word_counts[word] += 1\n",
    "    except KeyError:\n",
    "        word_counts[word] = 1"
   ]
  },
  {
   "cell_type": "markdown",
   "metadata": {},
   "source": [
    "# Visualise the results"
   ]
  },
  {
   "cell_type": "code",
   "execution_count": 14,
   "metadata": {},
   "outputs": [],
   "source": [
    "import pandas as pd"
   ]
  },
  {
   "cell_type": "markdown",
   "metadata": {},
   "source": [
    "The easiest way to visualise the word counts is to convert the `word_count` dict to a pandas `Series`, which has all of the methods we need to arrange and plot the word counts. We show this below:"
   ]
  },
  {
   "cell_type": "code",
   "execution_count": 15,
   "metadata": {},
   "outputs": [
    {
     "data": {
      "text/plain": [
       "<matplotlib.axes._subplots.AxesSubplot at 0x7f820667da90>"
      ]
     },
     "execution_count": 15,
     "metadata": {},
     "output_type": "execute_result"
    },
    {
     "data": {
      "image/png": "[encoded data removed]",
      "text/plain": [
       "<Figure size 432x288 with 1 Axes>"
      ]
     },
     "metadata": {
      "needs_background": "light"
     },
     "output_type": "display_data"
    }
   ],
   "source": [
    "(pd.Series(word_counts)   # Convert to pd.Series\n",
    "     .sort_values()       # Sort the words in descending order\n",
    "     .tail(20)            # Take the bottom 20 elements (this is the top 20 words by word count)\n",
    "     .plot(kind = 'barh', # Plot the counts - ('barh' means horizontal bar graph)\n",
    "           title = 'Top 20 common words in H.P. Lovecraft')\n",
    ")"
   ]
  }
 ],
 "metadata": {
  "kernelspec": {
   "display_name": "Python 3",
   "language": "python",
   "name": "python3"
  },
  "language_info": {
   "codemirror_mode": {
    "name": "ipython",
    "version": 3
   },
   "file_extension": ".py",
   "mimetype": "text/x-python",
   "name": "python",
   "nbconvert_exporter": "python",
   "pygments_lexer": "ipython3",
   "version": "3.6.8"
  }
 },
 "nbformat": 4,
 "nbformat_minor": 4
}
